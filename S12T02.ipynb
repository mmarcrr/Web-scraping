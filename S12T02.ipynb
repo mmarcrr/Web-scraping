{
 "cells": [
  {
   "cell_type": "markdown",
   "metadata": {},
   "source": [
    "S12 T02: Tasca de web scraping\n",
    "Descripció\n",
    "\n",
    "Aprèn a realitzar web scraping.\n",
    "Nivell 1\n",
    "- Exercici 1\n",
    "\n",
    "Realitza web scraping d'una pàgina de la borsa de Madrid (https://www.bolsamadrid.es) utilitzant BeautifulSoup i Selenium."
   ]
  },
  {
   "cell_type": "code",
   "execution_count": 27,
   "metadata": {},
   "outputs": [],
   "source": [
    "from bs4 import BeautifulSoup\n",
    "from selenium import webdriver\n",
    "from selenium.webdriver import Firefox\n",
    "from selenium.webdriver.firefox.options import Options\n",
    "from selenium.webdriver.common.by import By\n",
    "import html5lib"
   ]
  },
  {
   "cell_type": "code",
   "execution_count": 30,
   "metadata": {},
   "outputs": [
    {
     "name": "stderr",
     "output_type": "stream",
     "text": [
      "/tmp/ipykernel_108235/3276581355.py:2: DeprecationWarning: executable_path has been deprecated, please pass in a Service object\n",
      "  driver = Firefox(executable_path=\"./geckodriver\")\n"
     ]
    }
   ],
   "source": [
    "URL = \"https://www.bolsamadrid.es\"\n",
    "driver = Firefox(executable_path=\"./geckodriver\")\n",
    "driver.get(URL)\n",
    "\n",
    "html = driver.page_source\n",
    "soup = BeautifulSoup(driver.page_source, 'html.parser')\n",
    "#soup.prettify()\n"
   ]
  },
  {
   "cell_type": "markdown",
   "metadata": {},
   "source": [
    " <table border=\"0\" cellpadding=\"3\" cellspacing=\"0\" class=\"TblPort TblAccPort\" data-scroll=\"5\" data-tablaacc=\"IndMerc1\" data-tablagrupo=\"IndiceMerc\" width=\"100%\">"
   ]
  },
  {
   "cell_type": "markdown",
   "metadata": {},
   "source": [
    "results = soup.find_all(\"td\",class_=\"DifClBj\")\n",
    "for job_element in results:\n",
    "    print(job_element, end=\"\\n\"*2)\n"
   ]
  },
  {
   "cell_type": "code",
   "execution_count": 39,
   "metadata": {},
   "outputs": [
    {
     "ename": "IndexError",
     "evalue": "pop from empty list",
     "output_type": "error",
     "traceback": [
      "\u001b[0;31m---------------------------------------------------------------------------\u001b[0m",
      "\u001b[0;31mIndexError\u001b[0m                                Traceback (most recent call last)",
      "\u001b[1;32m/home/marcr/Documents/itacademy/Web-scraping/S12T02.ipynb Cell 6'\u001b[0m in \u001b[0;36m<cell line: 5>\u001b[0;34m()\u001b[0m\n\u001b[1;32m      <a href='vscode-notebook-cell:/home/marcr/Documents/itacademy/Web-scraping/S12T02.ipynb#ch0000005?line=6'>7</a>\u001b[0m name \u001b[39m=\u001b[39m \u001b[39mtype\u001b[39m(name_field)\n\u001b[1;32m      <a href='vscode-notebook-cell:/home/marcr/Documents/itacademy/Web-scraping/S12T02.ipynb#ch0000005?line=7'>8</a>\u001b[0m \u001b[39m#name = name_field.find_all('a').find(text=True)\u001b[39;00m\n\u001b[0;32m----> <a href='vscode-notebook-cell:/home/marcr/Documents/itacademy/Web-scraping/S12T02.ipynb#ch0000005?line=8'>9</a>\u001b[0m \u001b[39mprint\u001b[39m(name_field\u001b[39m.\u001b[39;49mpop())\n\u001b[1;32m     <a href='vscode-notebook-cell:/home/marcr/Documents/itacademy/Web-scraping/S12T02.ipynb#ch0000005?line=9'>10</a>\u001b[0m \u001b[39mprint\u001b[39m(\u001b[39mdir\u001b[39m(name_field))\n",
      "\u001b[0;31mIndexError\u001b[0m: pop from empty list"
     ]
    }
   ],
   "source": [
    "Indice_Merc_table = soup.find(\"table\",{'class':'TblPort TblAccPort','data-tablagrupo':'IndiceMerc'})\n",
    "rows = Indice_Merc_table.findAll('tr')\n",
    "# now grab every HTML cell in every row\n",
    "data=list()\n",
    "for tr in rows: #<td class=\"DifFlSb\" align=\"left\"><a href=\"/esp/aspx/Empresas/FichaValor.aspx?ISIN=ES0125220311\">ACCIONA</a></td>\n",
    "    name_field = tr.find_all('td',{'class':'DifFlSb','align':\"left\"})\n",
    "    name = type(name_field)\n",
    "    #name = name_field.find_all('a').find(text=True)\n",
    "    print(name_field.pop())\n",
    "    print(dir(name_field))\n",
    "    # Check to see if text is in the row\n",
    "   # for td in name:\n",
    "    #    text = td.find(text=True) \n",
    "    #    print(text)\n",
    "     #   data.append(text)\n",
    "    \n"
   ]
  },
  {
   "cell_type": "code",
   "execution_count": 6,
   "metadata": {},
   "outputs": [
    {
     "ename": "NameError",
     "evalue": "name 'opts' is not defined",
     "output_type": "error",
     "traceback": [
      "\u001b[0;31m---------------------------------------------------------------------------\u001b[0m",
      "\u001b[0;31mNameError\u001b[0m                                 Traceback (most recent call last)",
      "\u001b[1;32m/home/marcr/Documents/itacademy/Web-scraping/S12T02.ipynb Cell 7'\u001b[0m in \u001b[0;36m<cell line: 9>\u001b[0;34m()\u001b[0m\n\u001b[1;32m      <a href='vscode-notebook-cell:/home/marcr/Documents/itacademy/Web-scraping/S12T02.ipynb#ch0000006?line=6'>7</a>\u001b[0m options\u001b[39m.\u001b[39madd_argument(\u001b[39m\"\u001b[39m\u001b[39m--window-size=1920,1080\u001b[39m\u001b[39m\"\u001b[39m)  \u001b[39m# set window size to native GUI size\u001b[39;00m\n\u001b[1;32m      <a href='vscode-notebook-cell:/home/marcr/Documents/itacademy/Web-scraping/S12T02.ipynb#ch0000006?line=7'>8</a>\u001b[0m options\u001b[39m.\u001b[39madd_argument(\u001b[39m\"\u001b[39m\u001b[39mstart-maximized\u001b[39m\u001b[39m\"\u001b[39m)  \u001b[39m# ensure window is full-screen\u001b[39;00m\n\u001b[0;32m----> <a href='vscode-notebook-cell:/home/marcr/Documents/itacademy/Web-scraping/S12T02.ipynb#ch0000006?line=8'>9</a>\u001b[0m browser \u001b[39m=\u001b[39m Firefox(options\u001b[39m=\u001b[39mopts,executable_path\u001b[39m=\u001b[39m\u001b[39m\"\u001b[39m\u001b[39m./geckodriver\u001b[39m\u001b[39m\"\u001b[39m)\n\u001b[1;32m     <a href='vscode-notebook-cell:/home/marcr/Documents/itacademy/Web-scraping/S12T02.ipynb#ch0000006?line=9'>10</a>\u001b[0m browser\u001b[39m.\u001b[39mget(\u001b[39m\"\u001b[39m\u001b[39mhttps://www.bolsamadrid.es\u001b[39m\u001b[39m\"\u001b[39m)\n",
      "\u001b[0;31mNameError\u001b[0m: name 'opts' is not defined"
     ]
    }
   ],
   "source": [
    "from selenium.webdriver import Firefox\n",
    "from selenium.webdriver.firefox.options import Options\n",
    "from selenium.webdriver.common.by import By\n",
    "\n",
    "options = Options()\n",
    "options.headless = True  # hide GUI\n",
    "options.add_argument(\"--window-size=1920,1080\")  # set window size to native GUI size\n",
    "options.add_argument(\"start-maximized\")  # ensure window is full-screen\n",
    "browser = Firefox(options=opts,executable_path=\"./geckodriver\")\n",
    "browser.get(\"https://www.bolsamadrid.es\")\n",
    "\n"
   ]
  },
  {
   "cell_type": "code",
   "execution_count": null,
   "metadata": {},
   "outputs": [
    {
     "name": "stderr",
     "output_type": "stream",
     "text": [
      "/tmp/ipykernel_101530/1393562707.py:1: DeprecationWarning: find_elements_by_class_name is deprecated. Please use find_elements(by=By.CLASS_NAME, value=name) instead\n",
      "  browser.find_elements_by_class_name(\"DifClBj\")\n"
     ]
    },
    {
     "ename": "NoSuchWindowException",
     "evalue": "Message: Browsing context has been discarded\nStacktrace:\nWebDriverError@chrome://remote/content/shared/webdriver/Errors.jsm:183:5\nNoSuchWindowError@chrome://remote/content/shared/webdriver/Errors.jsm:437:5\nassert.that/<@chrome://remote/content/shared/webdriver/Assert.jsm:435:13\nassert.open@chrome://remote/content/shared/webdriver/Assert.jsm:143:4\nGeckoDriver.prototype.findElements@chrome://remote/content/marionette/driver.js:1414:10\ndespatch@chrome://remote/content/marionette/server.js:306:40\nexecute@chrome://remote/content/marionette/server.js:279:16\nonPacket/<@chrome://remote/content/marionette/server.js:252:20\nonPacket@chrome://remote/content/marionette/server.js:253:9\n_onJSONObjectReady/<@chrome://remote/content/marionette/transport.js:500:20\n",
     "output_type": "error",
     "traceback": [
      "\u001b[0;31m---------------------------------------------------------------------------\u001b[0m",
      "\u001b[0;31mNoSuchWindowException\u001b[0m                     Traceback (most recent call last)",
      "\u001b[1;32m/home/marcr/Documents/itacademy/Web-scraping/S12T02.ipynb Cell 8'\u001b[0m in \u001b[0;36m<cell line: 1>\u001b[0;34m()\u001b[0m\n\u001b[0;32m----> <a href='vscode-notebook-cell:/home/marcr/Documents/itacademy/Web-scraping/S12T02.ipynb#ch0000008?line=0'>1</a>\u001b[0m browser\u001b[39m.\u001b[39;49mfind_elements_by_class_name(\u001b[39m\"\u001b[39;49m\u001b[39mDifClBj\u001b[39;49m\u001b[39m\"\u001b[39;49m)\n\u001b[1;32m      <a href='vscode-notebook-cell:/home/marcr/Documents/itacademy/Web-scraping/S12T02.ipynb#ch0000008?line=1'>2</a>\u001b[0m browser\u001b[39m.\u001b[39mfin\n\u001b[1;32m      <a href='vscode-notebook-cell:/home/marcr/Documents/itacademy/Web-scraping/S12T02.ipynb#ch0000008?line=2'>3</a>\u001b[0m \u001b[39mprint\u001b[39m(results[\u001b[39m0\u001b[39m]\u001b[39m.\u001b[39mtext)\n",
      "File \u001b[0;32m~/Documents/itacademy/Web-scraping/.venv/lib64/python3.10/site-packages/selenium/webdriver/remote/webdriver.py:784\u001b[0m, in \u001b[0;36mWebDriver.find_elements_by_class_name\u001b[0;34m(self, name)\u001b[0m\n\u001b[1;32m    <a href='file:///home/marcr/Documents/itacademy/Web-scraping/.venv/lib64/python3.10/site-packages/selenium/webdriver/remote/webdriver.py?line=763'>764</a>\u001b[0m \u001b[39m\"\"\"\u001b[39;00m\n\u001b[1;32m    <a href='file:///home/marcr/Documents/itacademy/Web-scraping/.venv/lib64/python3.10/site-packages/selenium/webdriver/remote/webdriver.py?line=764'>765</a>\u001b[0m \u001b[39mFinds elements by class name.\u001b[39;00m\n\u001b[1;32m    <a href='file:///home/marcr/Documents/itacademy/Web-scraping/.venv/lib64/python3.10/site-packages/selenium/webdriver/remote/webdriver.py?line=765'>766</a>\u001b[0m \n\u001b[0;32m   (...)\u001b[0m\n\u001b[1;32m    <a href='file:///home/marcr/Documents/itacademy/Web-scraping/.venv/lib64/python3.10/site-packages/selenium/webdriver/remote/webdriver.py?line=776'>777</a>\u001b[0m \u001b[39m        elements = driver.find_elements_by_class_name('foo')\u001b[39;00m\n\u001b[1;32m    <a href='file:///home/marcr/Documents/itacademy/Web-scraping/.venv/lib64/python3.10/site-packages/selenium/webdriver/remote/webdriver.py?line=777'>778</a>\u001b[0m \u001b[39m\"\"\"\u001b[39;00m\n\u001b[1;32m    <a href='file:///home/marcr/Documents/itacademy/Web-scraping/.venv/lib64/python3.10/site-packages/selenium/webdriver/remote/webdriver.py?line=778'>779</a>\u001b[0m warnings\u001b[39m.\u001b[39mwarn(\n\u001b[1;32m    <a href='file:///home/marcr/Documents/itacademy/Web-scraping/.venv/lib64/python3.10/site-packages/selenium/webdriver/remote/webdriver.py?line=779'>780</a>\u001b[0m     \u001b[39m\"\u001b[39m\u001b[39mfind_elements_by_class_name is deprecated. Please use find_elements(by=By.CLASS_NAME, value=name) instead\u001b[39m\u001b[39m\"\u001b[39m,\n\u001b[1;32m    <a href='file:///home/marcr/Documents/itacademy/Web-scraping/.venv/lib64/python3.10/site-packages/selenium/webdriver/remote/webdriver.py?line=780'>781</a>\u001b[0m     \u001b[39mDeprecationWarning\u001b[39;00m,\n\u001b[1;32m    <a href='file:///home/marcr/Documents/itacademy/Web-scraping/.venv/lib64/python3.10/site-packages/selenium/webdriver/remote/webdriver.py?line=781'>782</a>\u001b[0m     stacklevel\u001b[39m=\u001b[39m\u001b[39m2\u001b[39m,\n\u001b[1;32m    <a href='file:///home/marcr/Documents/itacademy/Web-scraping/.venv/lib64/python3.10/site-packages/selenium/webdriver/remote/webdriver.py?line=782'>783</a>\u001b[0m )\n\u001b[0;32m--> <a href='file:///home/marcr/Documents/itacademy/Web-scraping/.venv/lib64/python3.10/site-packages/selenium/webdriver/remote/webdriver.py?line=783'>784</a>\u001b[0m \u001b[39mreturn\u001b[39;00m \u001b[39mself\u001b[39;49m\u001b[39m.\u001b[39;49mfind_elements(by\u001b[39m=\u001b[39;49mBy\u001b[39m.\u001b[39;49mCLASS_NAME, value\u001b[39m=\u001b[39;49mname)\n",
      "File \u001b[0;32m~/Documents/itacademy/Web-scraping/.venv/lib64/python3.10/site-packages/selenium/webdriver/remote/webdriver.py:1283\u001b[0m, in \u001b[0;36mWebDriver.find_elements\u001b[0;34m(self, by, value)\u001b[0m\n\u001b[1;32m   <a href='file:///home/marcr/Documents/itacademy/Web-scraping/.venv/lib64/python3.10/site-packages/selenium/webdriver/remote/webdriver.py?line=1278'>1279</a>\u001b[0m     value \u001b[39m=\u001b[39m \u001b[39m'\u001b[39m\u001b[39m[name=\u001b[39m\u001b[39m\"\u001b[39m\u001b[39m%s\u001b[39;00m\u001b[39m\"\u001b[39m\u001b[39m]\u001b[39m\u001b[39m'\u001b[39m \u001b[39m%\u001b[39m value\n\u001b[1;32m   <a href='file:///home/marcr/Documents/itacademy/Web-scraping/.venv/lib64/python3.10/site-packages/selenium/webdriver/remote/webdriver.py?line=1280'>1281</a>\u001b[0m \u001b[39m# Return empty list if driver returns null\u001b[39;00m\n\u001b[1;32m   <a href='file:///home/marcr/Documents/itacademy/Web-scraping/.venv/lib64/python3.10/site-packages/selenium/webdriver/remote/webdriver.py?line=1281'>1282</a>\u001b[0m \u001b[39m# See https://github.com/SeleniumHQ/selenium/issues/4555\u001b[39;00m\n\u001b[0;32m-> <a href='file:///home/marcr/Documents/itacademy/Web-scraping/.venv/lib64/python3.10/site-packages/selenium/webdriver/remote/webdriver.py?line=1282'>1283</a>\u001b[0m \u001b[39mreturn\u001b[39;00m \u001b[39mself\u001b[39;49m\u001b[39m.\u001b[39;49mexecute(Command\u001b[39m.\u001b[39;49mFIND_ELEMENTS, {\n\u001b[1;32m   <a href='file:///home/marcr/Documents/itacademy/Web-scraping/.venv/lib64/python3.10/site-packages/selenium/webdriver/remote/webdriver.py?line=1283'>1284</a>\u001b[0m     \u001b[39m'\u001b[39;49m\u001b[39musing\u001b[39;49m\u001b[39m'\u001b[39;49m: by,\n\u001b[1;32m   <a href='file:///home/marcr/Documents/itacademy/Web-scraping/.venv/lib64/python3.10/site-packages/selenium/webdriver/remote/webdriver.py?line=1284'>1285</a>\u001b[0m     \u001b[39m'\u001b[39;49m\u001b[39mvalue\u001b[39;49m\u001b[39m'\u001b[39;49m: value})[\u001b[39m'\u001b[39m\u001b[39mvalue\u001b[39m\u001b[39m'\u001b[39m] \u001b[39mor\u001b[39;00m []\n",
      "File \u001b[0;32m~/Documents/itacademy/Web-scraping/.venv/lib64/python3.10/site-packages/selenium/webdriver/remote/webdriver.py:425\u001b[0m, in \u001b[0;36mWebDriver.execute\u001b[0;34m(self, driver_command, params)\u001b[0m\n\u001b[1;32m    <a href='file:///home/marcr/Documents/itacademy/Web-scraping/.venv/lib64/python3.10/site-packages/selenium/webdriver/remote/webdriver.py?line=422'>423</a>\u001b[0m response \u001b[39m=\u001b[39m \u001b[39mself\u001b[39m\u001b[39m.\u001b[39mcommand_executor\u001b[39m.\u001b[39mexecute(driver_command, params)\n\u001b[1;32m    <a href='file:///home/marcr/Documents/itacademy/Web-scraping/.venv/lib64/python3.10/site-packages/selenium/webdriver/remote/webdriver.py?line=423'>424</a>\u001b[0m \u001b[39mif\u001b[39;00m response:\n\u001b[0;32m--> <a href='file:///home/marcr/Documents/itacademy/Web-scraping/.venv/lib64/python3.10/site-packages/selenium/webdriver/remote/webdriver.py?line=424'>425</a>\u001b[0m     \u001b[39mself\u001b[39;49m\u001b[39m.\u001b[39;49merror_handler\u001b[39m.\u001b[39;49mcheck_response(response)\n\u001b[1;32m    <a href='file:///home/marcr/Documents/itacademy/Web-scraping/.venv/lib64/python3.10/site-packages/selenium/webdriver/remote/webdriver.py?line=425'>426</a>\u001b[0m     response[\u001b[39m'\u001b[39m\u001b[39mvalue\u001b[39m\u001b[39m'\u001b[39m] \u001b[39m=\u001b[39m \u001b[39mself\u001b[39m\u001b[39m.\u001b[39m_unwrap_value(\n\u001b[1;32m    <a href='file:///home/marcr/Documents/itacademy/Web-scraping/.venv/lib64/python3.10/site-packages/selenium/webdriver/remote/webdriver.py?line=426'>427</a>\u001b[0m         response\u001b[39m.\u001b[39mget(\u001b[39m'\u001b[39m\u001b[39mvalue\u001b[39m\u001b[39m'\u001b[39m, \u001b[39mNone\u001b[39;00m))\n\u001b[1;32m    <a href='file:///home/marcr/Documents/itacademy/Web-scraping/.venv/lib64/python3.10/site-packages/selenium/webdriver/remote/webdriver.py?line=427'>428</a>\u001b[0m     \u001b[39mreturn\u001b[39;00m response\n",
      "File \u001b[0;32m~/Documents/itacademy/Web-scraping/.venv/lib64/python3.10/site-packages/selenium/webdriver/remote/errorhandler.py:247\u001b[0m, in \u001b[0;36mErrorHandler.check_response\u001b[0;34m(self, response)\u001b[0m\n\u001b[1;32m    <a href='file:///home/marcr/Documents/itacademy/Web-scraping/.venv/lib64/python3.10/site-packages/selenium/webdriver/remote/errorhandler.py?line=244'>245</a>\u001b[0m         alert_text \u001b[39m=\u001b[39m value[\u001b[39m'\u001b[39m\u001b[39malert\u001b[39m\u001b[39m'\u001b[39m]\u001b[39m.\u001b[39mget(\u001b[39m'\u001b[39m\u001b[39mtext\u001b[39m\u001b[39m'\u001b[39m)\n\u001b[1;32m    <a href='file:///home/marcr/Documents/itacademy/Web-scraping/.venv/lib64/python3.10/site-packages/selenium/webdriver/remote/errorhandler.py?line=245'>246</a>\u001b[0m     \u001b[39mraise\u001b[39;00m exception_class(message, screen, stacktrace, alert_text)  \u001b[39m# type: ignore[call-arg]  # mypy is not smart enough here\u001b[39;00m\n\u001b[0;32m--> <a href='file:///home/marcr/Documents/itacademy/Web-scraping/.venv/lib64/python3.10/site-packages/selenium/webdriver/remote/errorhandler.py?line=246'>247</a>\u001b[0m \u001b[39mraise\u001b[39;00m exception_class(message, screen, stacktrace)\n",
      "\u001b[0;31mNoSuchWindowException\u001b[0m: Message: Browsing context has been discarded\nStacktrace:\nWebDriverError@chrome://remote/content/shared/webdriver/Errors.jsm:183:5\nNoSuchWindowError@chrome://remote/content/shared/webdriver/Errors.jsm:437:5\nassert.that/<@chrome://remote/content/shared/webdriver/Assert.jsm:435:13\nassert.open@chrome://remote/content/shared/webdriver/Assert.jsm:143:4\nGeckoDriver.prototype.findElements@chrome://remote/content/marionette/driver.js:1414:10\ndespatch@chrome://remote/content/marionette/server.js:306:40\nexecute@chrome://remote/content/marionette/server.js:279:16\nonPacket/<@chrome://remote/content/marionette/server.js:252:20\nonPacket@chrome://remote/content/marionette/server.js:253:9\n_onJSONObjectReady/<@chrome://remote/content/marionette/transport.js:500:20\n"
     ]
    }
   ],
   "source": [
    "browser.find_elements_by_class_name(\"DifClBj\")\n",
    "browser.fin\n",
    "print(results[0].text)"
   ]
  },
  {
   "cell_type": "code",
   "execution_count": null,
   "metadata": {},
   "outputs": [
    {
     "ename": "InvalidSessionIdException",
     "evalue": "Message: Tried to run command without establishing a connection\n",
     "output_type": "error",
     "traceback": [
      "\u001b[0;31m---------------------------------------------------------------------------\u001b[0m",
      "\u001b[0;31mInvalidSessionIdException\u001b[0m                 Traceback (most recent call last)",
      "\u001b[1;32m/home/marcr/Documents/itacademy/Web-scraping/S12T02.ipynb Cell 7'\u001b[0m in \u001b[0;36m<cell line: 1>\u001b[0;34m()\u001b[0m\n\u001b[0;32m----> <a href='vscode-notebook-cell:/home/marcr/Documents/itacademy/Web-scraping/S12T02.ipynb#ch0000009?line=0'>1</a>\u001b[0m browser\u001b[39m.\u001b[39;49mclose()\n\u001b[1;32m      <a href='vscode-notebook-cell:/home/marcr/Documents/itacademy/Web-scraping/S12T02.ipynb#ch0000009?line=1'>2</a>\u001b[0m quit()\n",
      "File \u001b[0;32m~/Documents/itacademy/Web-scraping/.venv/lib64/python3.10/site-packages/selenium/webdriver/remote/webdriver.py:938\u001b[0m, in \u001b[0;36mWebDriver.close\u001b[0;34m(self)\u001b[0m\n\u001b[1;32m    <a href='file:///home/marcr/Documents/itacademy/Web-scraping/.venv/lib64/python3.10/site-packages/selenium/webdriver/remote/webdriver.py?line=928'>929</a>\u001b[0m \u001b[39mdef\u001b[39;00m \u001b[39mclose\u001b[39m(\u001b[39mself\u001b[39m) \u001b[39m-\u001b[39m\u001b[39m>\u001b[39m \u001b[39mNone\u001b[39;00m:\n\u001b[1;32m    <a href='file:///home/marcr/Documents/itacademy/Web-scraping/.venv/lib64/python3.10/site-packages/selenium/webdriver/remote/webdriver.py?line=929'>930</a>\u001b[0m     \u001b[39m\"\"\"\u001b[39;00m\n\u001b[1;32m    <a href='file:///home/marcr/Documents/itacademy/Web-scraping/.venv/lib64/python3.10/site-packages/selenium/webdriver/remote/webdriver.py?line=930'>931</a>\u001b[0m \u001b[39m    Closes the current window.\u001b[39;00m\n\u001b[1;32m    <a href='file:///home/marcr/Documents/itacademy/Web-scraping/.venv/lib64/python3.10/site-packages/selenium/webdriver/remote/webdriver.py?line=931'>932</a>\u001b[0m \n\u001b[0;32m   (...)\u001b[0m\n\u001b[1;32m    <a href='file:///home/marcr/Documents/itacademy/Web-scraping/.venv/lib64/python3.10/site-packages/selenium/webdriver/remote/webdriver.py?line=935'>936</a>\u001b[0m \u001b[39m            driver.close()\u001b[39;00m\n\u001b[1;32m    <a href='file:///home/marcr/Documents/itacademy/Web-scraping/.venv/lib64/python3.10/site-packages/selenium/webdriver/remote/webdriver.py?line=936'>937</a>\u001b[0m \u001b[39m    \"\"\"\u001b[39;00m\n\u001b[0;32m--> <a href='file:///home/marcr/Documents/itacademy/Web-scraping/.venv/lib64/python3.10/site-packages/selenium/webdriver/remote/webdriver.py?line=937'>938</a>\u001b[0m     \u001b[39mself\u001b[39;49m\u001b[39m.\u001b[39;49mexecute(Command\u001b[39m.\u001b[39;49mCLOSE)\n",
      "File \u001b[0;32m~/Documents/itacademy/Web-scraping/.venv/lib64/python3.10/site-packages/selenium/webdriver/remote/webdriver.py:425\u001b[0m, in \u001b[0;36mWebDriver.execute\u001b[0;34m(self, driver_command, params)\u001b[0m\n\u001b[1;32m    <a href='file:///home/marcr/Documents/itacademy/Web-scraping/.venv/lib64/python3.10/site-packages/selenium/webdriver/remote/webdriver.py?line=422'>423</a>\u001b[0m response \u001b[39m=\u001b[39m \u001b[39mself\u001b[39m\u001b[39m.\u001b[39mcommand_executor\u001b[39m.\u001b[39mexecute(driver_command, params)\n\u001b[1;32m    <a href='file:///home/marcr/Documents/itacademy/Web-scraping/.venv/lib64/python3.10/site-packages/selenium/webdriver/remote/webdriver.py?line=423'>424</a>\u001b[0m \u001b[39mif\u001b[39;00m response:\n\u001b[0;32m--> <a href='file:///home/marcr/Documents/itacademy/Web-scraping/.venv/lib64/python3.10/site-packages/selenium/webdriver/remote/webdriver.py?line=424'>425</a>\u001b[0m     \u001b[39mself\u001b[39;49m\u001b[39m.\u001b[39;49merror_handler\u001b[39m.\u001b[39;49mcheck_response(response)\n\u001b[1;32m    <a href='file:///home/marcr/Documents/itacademy/Web-scraping/.venv/lib64/python3.10/site-packages/selenium/webdriver/remote/webdriver.py?line=425'>426</a>\u001b[0m     response[\u001b[39m'\u001b[39m\u001b[39mvalue\u001b[39m\u001b[39m'\u001b[39m] \u001b[39m=\u001b[39m \u001b[39mself\u001b[39m\u001b[39m.\u001b[39m_unwrap_value(\n\u001b[1;32m    <a href='file:///home/marcr/Documents/itacademy/Web-scraping/.venv/lib64/python3.10/site-packages/selenium/webdriver/remote/webdriver.py?line=426'>427</a>\u001b[0m         response\u001b[39m.\u001b[39mget(\u001b[39m'\u001b[39m\u001b[39mvalue\u001b[39m\u001b[39m'\u001b[39m, \u001b[39mNone\u001b[39;00m))\n\u001b[1;32m    <a href='file:///home/marcr/Documents/itacademy/Web-scraping/.venv/lib64/python3.10/site-packages/selenium/webdriver/remote/webdriver.py?line=427'>428</a>\u001b[0m     \u001b[39mreturn\u001b[39;00m response\n",
      "File \u001b[0;32m~/Documents/itacademy/Web-scraping/.venv/lib64/python3.10/site-packages/selenium/webdriver/remote/errorhandler.py:247\u001b[0m, in \u001b[0;36mErrorHandler.check_response\u001b[0;34m(self, response)\u001b[0m\n\u001b[1;32m    <a href='file:///home/marcr/Documents/itacademy/Web-scraping/.venv/lib64/python3.10/site-packages/selenium/webdriver/remote/errorhandler.py?line=244'>245</a>\u001b[0m         alert_text \u001b[39m=\u001b[39m value[\u001b[39m'\u001b[39m\u001b[39malert\u001b[39m\u001b[39m'\u001b[39m]\u001b[39m.\u001b[39mget(\u001b[39m'\u001b[39m\u001b[39mtext\u001b[39m\u001b[39m'\u001b[39m)\n\u001b[1;32m    <a href='file:///home/marcr/Documents/itacademy/Web-scraping/.venv/lib64/python3.10/site-packages/selenium/webdriver/remote/errorhandler.py?line=245'>246</a>\u001b[0m     \u001b[39mraise\u001b[39;00m exception_class(message, screen, stacktrace, alert_text)  \u001b[39m# type: ignore[call-arg]  # mypy is not smart enough here\u001b[39;00m\n\u001b[0;32m--> <a href='file:///home/marcr/Documents/itacademy/Web-scraping/.venv/lib64/python3.10/site-packages/selenium/webdriver/remote/errorhandler.py?line=246'>247</a>\u001b[0m \u001b[39mraise\u001b[39;00m exception_class(message, screen, stacktrace)\n",
      "\u001b[0;31mInvalidSessionIdException\u001b[0m: Message: Tried to run command without establishing a connection\n"
     ]
    }
   ],
   "source": [
    "browser.close()\n",
    "quit()\n"
   ]
  },
  {
   "cell_type": "markdown",
   "metadata": {},
   "source": [
    "Nivell 2\n",
    "\n",
    "- Exercici 2\n",
    "\n",
    "Documenta en un word el teu conjunt de dades generat amb la informació que tenen els diferents arxius de Kaggle.\n"
   ]
  },
  {
   "cell_type": "markdown",
   "metadata": {},
   "source": [
    "Nivell 3\n",
    "- Exercici 3\n",
    "\n",
    "Tria una página web que tu vulguis i realitza web scraping mitjançant la llibreria Scrapy. \n"
   ]
  }
 ],
 "metadata": {
  "interpreter": {
   "hash": "610c8b9e70c394f4da3f69af396d92430692873c9a51d8b28db379bdd2e5b441"
  },
  "kernelspec": {
   "display_name": "Python 3.10.4 ('.venv': venv)",
   "language": "python",
   "name": "python3"
  },
  "language_info": {
   "codemirror_mode": {
    "name": "ipython",
    "version": 3
   },
   "file_extension": ".py",
   "mimetype": "text/x-python",
   "name": "python",
   "nbconvert_exporter": "python",
   "pygments_lexer": "ipython3",
   "version": "3.10.4"
  },
  "orig_nbformat": 4
 },
 "nbformat": 4,
 "nbformat_minor": 2
}
